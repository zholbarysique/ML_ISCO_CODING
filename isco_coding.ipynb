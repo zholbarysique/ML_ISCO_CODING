{
  "cells": [
    {
      "cell_type": "markdown",
      "id": "498b0090",
      "metadata": {},
      "source": [
        "# Кодирование ответов открытого типа в соответсвии с классификацией ISCO-08\n",
        "## 1. Описание проекта\n",
        "Каждые три года Казахстан принимает участие в международном исследовании PISA, проводимом ОЭСР. Кроме того, 1000 организаций образования ежегодно принимают участие в  PISA-Based Test for Schools (далее - PBTS), одной из версий исследования PISA. Исследования оценивают способность 15-летних подростков применять свои знания и навыки в чтении, математике и естественных науках для решения жизненных задач, а также понять насколько образовательные системы эффективно поддерживают их обучение. PISA/PBTS состоит из двух частей: \n",
        "1) двухчасовой когнитивный тест;\n",
        "2) анкета учащегося. \n",
        "\n",
        "В анкете содержатся вопросы о семейном и школьном контексте, в том числе три открытых вопроса: профессия матери, профессия отца и карьерные ожидания учащегося. Эти открытые ответы учащихся кодируются в соответствии с международной классификацией профессий ISCO-08 и используются для оценки социально-экономического статуса и карьерной готовности учащихся.\n",
        "\n",
        "За каждый цикл исследования мы получаем от <span style='color: #DEA193;'>**55 000 до 60 000**</span> таких открытых ответов, которые учащиеся заполняют на русском и казахском языках. Кодирование этих ответов вручную требует больших временных и человеческих ресурсов: необходимо формирование двух команд по 6–8 человек на каждый язык, проведение обучения, контроль качества и согласование конфликтных кодировок. Из-за ограниченного времени и нехватки специалистов выполнение ручного кодирования представляет собой значительную нагрузку и даже неэффективной.\n",
        "\n",
        "## 2. Цель данного проекта\n",
        "В данном проекте я хочу <span style='color: #DEA193;'>**автоматизировать процесс кодирования с использованием нейросетей** </span>, чтобы облегчить работу кодировщиков и сократить необходимое количество привлечённого персонала. <span style='color: #DEA193;'>**Это решение не исключает участие кодировщиков, но позволяет сократить их число и повысить эффективность работы** </span>. Автоматическая модель кодирования применяется один раз ко всему датасету, после чего кодировщики проверяют и при необходимости корректируют присвоенные коды. Для обучения модели использовались ответы из предыдущих волн PISA, включая различные \"шумовые\" случаи, н-р, орфографические ошибки, латиница, несерьёзные ответы (н-р, \"хочу стать супергероем 🦸🏻‍♀️\").\n",
        "\n",
        "## 3. Постановка задачи\n",
        "* Тип задачи: многоклассовая классификация\n",
        "* Целевая переменная: <span style='color: #DEA193;'>**код ISCO-08** </span>. \n",
        "    - ISCO-08 — это четырёхуровневая иерархически структурированная классификация, позволяющая отнести все профессии в мире к 436 единичным (базовым) группам. Каждая группа в классификации обозначена названием и кодом, а также сопровождается описанием, которое определяет её содержание.\n",
        "\t    1. Основная группа (Major Group) — обозначается однозначным кодом, например: 2 Professionals.\n",
        "\t    2. Подгруппа (Sub-Major Group) — обозначается двузначным кодом, например: 22 Health Professionals.\n",
        "\t    3. Малая группа (Minor Group) — обозначается трёхзначным кодом, например: 221 Medical doctors.\n",
        "\t    4. Единичная (базовая) группа (Unit Group) — обозначается четырёхзначным кодом, например: 2211 Generalist Medical Practitioners.\n",
        "    - Существуют также <span style='color: #DEA193;'>**вспомогательные коды** </span>, которые используются для ответов, не подходящих ни под одну из профессий ISCO, но которые всё равно необходимо закодировать:\n",
        "        * 9701  Doing housework, bringing up children\n",
        "        * 9702  Learning, studying\n",
        "        * 9703  Retired, pensioner, on unemployment benefits\n",
        "        * 9704  I do not know, it's hard to say\n",
        "        * 9705  Answer too general (e.g. good job, well paid job)\n",
        "        * 9997  Not applicable\n",
        "        * 9998  Invalid\n",
        "        * 9999  No response(if response is blank)\n",
        "* Метрика качества:\n",
        "    - macro F1 - важна точность по всем классам, включая редкие\n",
        "    - accuracy - общая точность предсказаний\n",
        "* Бизнес-эффект:\n",
        "    - Сокращение количества необходимых кодировщиков (с 12–16 до 4)\n",
        "    - Снижение временных и финансовых затрат\n",
        "\n",
        "## 4. О данных\n",
        "### 4.1. Описание данных\n",
        "* Источник: ответы на 3 открытых вопроса анкеты PISA (профессия матери, отца и карьерные ожидания обучающихся) предыдущих циклов\n",
        "* Языки: казахский, русский\n",
        "* Период обучения модели: [7170/7170 1:33:01, Epoch 5/6]\n",
        "* Признаки: объединённый текст ответа (Title + Description)\n",
        "* Целевая переменная: ISCO Code\n",
        "\n",
        "### 4.2. Сбор и предобработка\n",
        "* Объединение данных двух языков\n",
        "* Очистка текстов, удаление строк с пропущенными значениями\n",
        "* Кодирование меток с помощью LabelEncoder\n",
        "* Отбор редких классов (удаление классов с <5 наблюдений)\n",
        "* Разделение на обучающую, валидационную и тестовую выборки (70/15/15 ratio)\n",
        "* Токенизация XLM-RoBERTa (large-sized model) (макс. длина = 128)\n",
        "* Балансировка классов с использованием class_weights\n",
        "\n",
        "## 5. Результаты и план внедрения\n",
        "* Методы ML: <span style='color: #DEA193;'>**XLM-RoBERTa (large-sized model)** </span> \n",
        "    Выбранный метод оптимален по точности и поддерживает оба языка (русский и казахский)\n",
        "* Моделирование: Обучение с использованием Trainer и ранней остановки (EarlyStopping)\n",
        "* Лучшая модель достигла:\n",
        "    * <span style='color: #DEA193;'>**Accuracy = 0.72** </span>\n",
        "    * <span style='color: #DEA193;'>**Macro F1 = 0.39** </span>\n",
        "    * Модель сохранена и готова к повторному использованию\n",
        "* Продуктовый сценарий:\n",
        "    * режим: пакетное кодирование (batch prediction)\n",
        "    * использование: модель применяется один раз к новым данным, затем кодировщики проверяют и исправляют\n",
        "    * интеграция: модель загружается из Google Drive, применяется к новым Excel-файлам от ОЭСР\n",
        "* Бизнес-правила: ручная проверка обязательна (legal obligation)\n",
        "* Идеи для развития:\n",
        "    * Нужно учесть иерархическую структуру классов (ISCO-08)\n",
        "    * Расширение до анализа других открытых ответов (например, когнитивные задания)\n",
        "\n"
      ]
    },
    {
      "cell_type": "code",
      "execution_count": 1,
      "id": "L5jFm-16HvJN",
      "metadata": {
        "colab": {
          "base_uri": "https://localhost:8080/"
        },
        "id": "L5jFm-16HvJN",
        "outputId": "c47cd3b1-f014-4c1f-e9db-ee28a50a094f"
      },
      "outputs": [
        {
          "name": "stdout",
          "output_type": "stream",
          "text": [
            "Collecting datasets\n",
            "  Downloading datasets-3.6.0-py3-none-any.whl.metadata (19 kB)\n",
            "Requirement already satisfied: filelock in /usr/local/lib/python3.11/dist-packages (from datasets) (3.18.0)\n",
            "Requirement already satisfied: numpy>=1.17 in /usr/local/lib/python3.11/dist-packages (from datasets) (2.0.2)\n",
            "Requirement already satisfied: pyarrow>=15.0.0 in /usr/local/lib/python3.11/dist-packages (from datasets) (18.1.0)\n",
            "Collecting dill<0.3.9,>=0.3.0 (from datasets)\n",
            "  Downloading dill-0.3.8-py3-none-any.whl.metadata (10 kB)\n",
            "Requirement already satisfied: pandas in /usr/local/lib/python3.11/dist-packages (from datasets) (2.2.2)\n",
            "Requirement already satisfied: requests>=2.32.2 in /usr/local/lib/python3.11/dist-packages (from datasets) (2.32.3)\n",
            "Requirement already satisfied: tqdm>=4.66.3 in /usr/local/lib/python3.11/dist-packages (from datasets) (4.67.1)\n",
            "Collecting xxhash (from datasets)\n",
            "  Downloading xxhash-3.5.0-cp311-cp311-manylinux_2_17_x86_64.manylinux2014_x86_64.whl.metadata (12 kB)\n",
            "Collecting multiprocess<0.70.17 (from datasets)\n",
            "  Downloading multiprocess-0.70.16-py311-none-any.whl.metadata (7.2 kB)\n",
            "Collecting fsspec<=2025.3.0,>=2023.1.0 (from fsspec[http]<=2025.3.0,>=2023.1.0->datasets)\n",
            "  Downloading fsspec-2025.3.0-py3-none-any.whl.metadata (11 kB)\n",
            "Requirement already satisfied: huggingface-hub>=0.24.0 in /usr/local/lib/python3.11/dist-packages (from datasets) (0.30.2)\n",
            "Requirement already satisfied: packaging in /usr/local/lib/python3.11/dist-packages (from datasets) (24.2)\n",
            "Requirement already satisfied: pyyaml>=5.1 in /usr/local/lib/python3.11/dist-packages (from datasets) (6.0.2)\n",
            "Requirement already satisfied: aiohttp!=4.0.0a0,!=4.0.0a1 in /usr/local/lib/python3.11/dist-packages (from fsspec[http]<=2025.3.0,>=2023.1.0->datasets) (3.11.15)\n",
            "Requirement already satisfied: typing-extensions>=3.7.4.3 in /usr/local/lib/python3.11/dist-packages (from huggingface-hub>=0.24.0->datasets) (4.13.2)\n",
            "Requirement already satisfied: charset-normalizer<4,>=2 in /usr/local/lib/python3.11/dist-packages (from requests>=2.32.2->datasets) (3.4.1)\n",
            "Requirement already satisfied: idna<4,>=2.5 in /usr/local/lib/python3.11/dist-packages (from requests>=2.32.2->datasets) (3.10)\n",
            "Requirement already satisfied: urllib3<3,>=1.21.1 in /usr/local/lib/python3.11/dist-packages (from requests>=2.32.2->datasets) (2.4.0)\n",
            "Requirement already satisfied: certifi>=2017.4.17 in /usr/local/lib/python3.11/dist-packages (from requests>=2.32.2->datasets) (2025.4.26)\n",
            "Requirement already satisfied: python-dateutil>=2.8.2 in /usr/local/lib/python3.11/dist-packages (from pandas->datasets) (2.9.0.post0)\n",
            "Requirement already satisfied: pytz>=2020.1 in /usr/local/lib/python3.11/dist-packages (from pandas->datasets) (2025.2)\n",
            "Requirement already satisfied: tzdata>=2022.7 in /usr/local/lib/python3.11/dist-packages (from pandas->datasets) (2025.2)\n",
            "Requirement already satisfied: aiohappyeyeballs>=2.3.0 in /usr/local/lib/python3.11/dist-packages (from aiohttp!=4.0.0a0,!=4.0.0a1->fsspec[http]<=2025.3.0,>=2023.1.0->datasets) (2.6.1)\n",
            "Requirement already satisfied: aiosignal>=1.1.2 in /usr/local/lib/python3.11/dist-packages (from aiohttp!=4.0.0a0,!=4.0.0a1->fsspec[http]<=2025.3.0,>=2023.1.0->datasets) (1.3.2)\n",
            "Requirement already satisfied: attrs>=17.3.0 in /usr/local/lib/python3.11/dist-packages (from aiohttp!=4.0.0a0,!=4.0.0a1->fsspec[http]<=2025.3.0,>=2023.1.0->datasets) (25.3.0)\n",
            "Requirement already satisfied: frozenlist>=1.1.1 in /usr/local/lib/python3.11/dist-packages (from aiohttp!=4.0.0a0,!=4.0.0a1->fsspec[http]<=2025.3.0,>=2023.1.0->datasets) (1.6.0)\n",
            "Requirement already satisfied: multidict<7.0,>=4.5 in /usr/local/lib/python3.11/dist-packages (from aiohttp!=4.0.0a0,!=4.0.0a1->fsspec[http]<=2025.3.0,>=2023.1.0->datasets) (6.4.3)\n",
            "Requirement already satisfied: propcache>=0.2.0 in /usr/local/lib/python3.11/dist-packages (from aiohttp!=4.0.0a0,!=4.0.0a1->fsspec[http]<=2025.3.0,>=2023.1.0->datasets) (0.3.1)\n",
            "Requirement already satisfied: yarl<2.0,>=1.17.0 in /usr/local/lib/python3.11/dist-packages (from aiohttp!=4.0.0a0,!=4.0.0a1->fsspec[http]<=2025.3.0,>=2023.1.0->datasets) (1.20.0)\n",
            "Requirement already satisfied: six>=1.5 in /usr/local/lib/python3.11/dist-packages (from python-dateutil>=2.8.2->pandas->datasets) (1.17.0)\n",
            "Downloading datasets-3.6.0-py3-none-any.whl (491 kB)\n",
            "\u001b[2K   \u001b[90m━━━━━━━━━━━━━━━━━━━━━━━━━━━━━━━━━━━━━━━━\u001b[0m \u001b[32m491.5/491.5 kB\u001b[0m \u001b[31m7.8 MB/s\u001b[0m eta \u001b[36m0:00:00\u001b[0m\n",
            "\u001b[?25hDownloading dill-0.3.8-py3-none-any.whl (116 kB)\n",
            "\u001b[2K   \u001b[90m━━━━━━━━━━━━━━━━━━━━━━━━━━━━━━━━━━━━━━━━\u001b[0m \u001b[32m116.3/116.3 kB\u001b[0m \u001b[31m5.7 MB/s\u001b[0m eta \u001b[36m0:00:00\u001b[0m\n",
            "\u001b[?25hDownloading fsspec-2025.3.0-py3-none-any.whl (193 kB)\n",
            "\u001b[2K   \u001b[90m━━━━━━━━━━━━━━━━━━━━━━━━━━━━━━━━━━━━━━━━\u001b[0m \u001b[32m193.6/193.6 kB\u001b[0m \u001b[31m10.1 MB/s\u001b[0m eta \u001b[36m0:00:00\u001b[0m\n",
            "\u001b[?25hDownloading multiprocess-0.70.16-py311-none-any.whl (143 kB)\n",
            "\u001b[2K   \u001b[90m━━━━━━━━━━━━━━━━━━━━━━━━━━━━━━━━━━━━━━━━\u001b[0m \u001b[32m143.5/143.5 kB\u001b[0m \u001b[31m7.2 MB/s\u001b[0m eta \u001b[36m0:00:00\u001b[0m\n",
            "\u001b[?25hDownloading xxhash-3.5.0-cp311-cp311-manylinux_2_17_x86_64.manylinux2014_x86_64.whl (194 kB)\n",
            "\u001b[2K   \u001b[90m━━━━━━━━━━━━━━━━━━━━━━━━━━━━━━━━━━━━━━━━\u001b[0m \u001b[32m194.8/194.8 kB\u001b[0m \u001b[31m11.6 MB/s\u001b[0m eta \u001b[36m0:00:00\u001b[0m\n",
            "\u001b[?25hInstalling collected packages: xxhash, fsspec, dill, multiprocess, datasets\n",
            "  Attempting uninstall: fsspec\n",
            "    Found existing installation: fsspec 2025.3.2\n",
            "    Uninstalling fsspec-2025.3.2:\n",
            "      Successfully uninstalled fsspec-2025.3.2\n",
            "\u001b[31mERROR: pip's dependency resolver does not currently take into account all the packages that are installed. This behaviour is the source of the following dependency conflicts.\n",
            "gcsfs 2025.3.2 requires fsspec==2025.3.2, but you have fsspec 2025.3.0 which is incompatible.\n",
            "torch 2.6.0+cu124 requires nvidia-cublas-cu12==12.4.5.8; platform_system == \"Linux\" and platform_machine == \"x86_64\", but you have nvidia-cublas-cu12 12.5.3.2 which is incompatible.\n",
            "torch 2.6.0+cu124 requires nvidia-cuda-cupti-cu12==12.4.127; platform_system == \"Linux\" and platform_machine == \"x86_64\", but you have nvidia-cuda-cupti-cu12 12.5.82 which is incompatible.\n",
            "torch 2.6.0+cu124 requires nvidia-cuda-nvrtc-cu12==12.4.127; platform_system == \"Linux\" and platform_machine == \"x86_64\", but you have nvidia-cuda-nvrtc-cu12 12.5.82 which is incompatible.\n",
            "torch 2.6.0+cu124 requires nvidia-cuda-runtime-cu12==12.4.127; platform_system == \"Linux\" and platform_machine == \"x86_64\", but you have nvidia-cuda-runtime-cu12 12.5.82 which is incompatible.\n",
            "torch 2.6.0+cu124 requires nvidia-cudnn-cu12==9.1.0.70; platform_system == \"Linux\" and platform_machine == \"x86_64\", but you have nvidia-cudnn-cu12 9.3.0.75 which is incompatible.\n",
            "torch 2.6.0+cu124 requires nvidia-cufft-cu12==11.2.1.3; platform_system == \"Linux\" and platform_machine == \"x86_64\", but you have nvidia-cufft-cu12 11.2.3.61 which is incompatible.\n",
            "torch 2.6.0+cu124 requires nvidia-curand-cu12==10.3.5.147; platform_system == \"Linux\" and platform_machine == \"x86_64\", but you have nvidia-curand-cu12 10.3.6.82 which is incompatible.\n",
            "torch 2.6.0+cu124 requires nvidia-cusolver-cu12==11.6.1.9; platform_system == \"Linux\" and platform_machine == \"x86_64\", but you have nvidia-cusolver-cu12 11.6.3.83 which is incompatible.\n",
            "torch 2.6.0+cu124 requires nvidia-cusparse-cu12==12.3.1.170; platform_system == \"Linux\" and platform_machine == \"x86_64\", but you have nvidia-cusparse-cu12 12.5.1.3 which is incompatible.\n",
            "torch 2.6.0+cu124 requires nvidia-nvjitlink-cu12==12.4.127; platform_system == \"Linux\" and platform_machine == \"x86_64\", but you have nvidia-nvjitlink-cu12 12.5.82 which is incompatible.\u001b[0m\u001b[31m\n",
            "\u001b[0mSuccessfully installed datasets-3.6.0 dill-0.3.8 fsspec-2025.3.0 multiprocess-0.70.16 xxhash-3.5.0\n",
            "Collecting optuna\n",
            "  Downloading optuna-4.3.0-py3-none-any.whl.metadata (17 kB)\n",
            "Collecting alembic>=1.5.0 (from optuna)\n",
            "  Downloading alembic-1.15.2-py3-none-any.whl.metadata (7.3 kB)\n",
            "Collecting colorlog (from optuna)\n",
            "  Downloading colorlog-6.9.0-py3-none-any.whl.metadata (10 kB)\n",
            "Requirement already satisfied: numpy in /usr/local/lib/python3.11/dist-packages (from optuna) (2.0.2)\n",
            "Requirement already satisfied: packaging>=20.0 in /usr/local/lib/python3.11/dist-packages (from optuna) (24.2)\n",
            "Requirement already satisfied: sqlalchemy>=1.4.2 in /usr/local/lib/python3.11/dist-packages (from optuna) (2.0.40)\n",
            "Requirement already satisfied: tqdm in /usr/local/lib/python3.11/dist-packages (from optuna) (4.67.1)\n",
            "Requirement already satisfied: PyYAML in /usr/local/lib/python3.11/dist-packages (from optuna) (6.0.2)\n",
            "Requirement already satisfied: Mako in /usr/lib/python3/dist-packages (from alembic>=1.5.0->optuna) (1.1.3)\n",
            "Requirement already satisfied: typing-extensions>=4.12 in /usr/local/lib/python3.11/dist-packages (from alembic>=1.5.0->optuna) (4.13.2)\n",
            "Requirement already satisfied: greenlet>=1 in /usr/local/lib/python3.11/dist-packages (from sqlalchemy>=1.4.2->optuna) (3.2.1)\n",
            "Downloading optuna-4.3.0-py3-none-any.whl (386 kB)\n",
            "\u001b[2K   \u001b[90m━━━━━━━━━━━━━━━━━━━━━━━━━━━━━━━━━━━━━━━━\u001b[0m \u001b[32m386.6/386.6 kB\u001b[0m \u001b[31m9.1 MB/s\u001b[0m eta \u001b[36m0:00:00\u001b[0m\n",
            "\u001b[?25hDownloading alembic-1.15.2-py3-none-any.whl (231 kB)\n",
            "\u001b[2K   \u001b[90m━━━━━━━━━━━━━━━━━━━━━━━━━━━━━━━━━━━━━━━━\u001b[0m \u001b[32m231.9/231.9 kB\u001b[0m \u001b[31m20.3 MB/s\u001b[0m eta \u001b[36m0:00:00\u001b[0m\n",
            "\u001b[?25hDownloading colorlog-6.9.0-py3-none-any.whl (11 kB)\n",
            "Installing collected packages: colorlog, alembic, optuna\n",
            "Successfully installed alembic-1.15.2 colorlog-6.9.0 optuna-4.3.0\n",
            "Requirement already satisfied: accelerate in /usr/local/lib/python3.11/dist-packages (1.6.0)\n",
            "Requirement already satisfied: numpy<3.0.0,>=1.17 in /usr/local/lib/python3.11/dist-packages (from accelerate) (2.0.2)\n",
            "Requirement already satisfied: packaging>=20.0 in /usr/local/lib/python3.11/dist-packages (from accelerate) (24.2)\n",
            "Requirement already satisfied: psutil in /usr/local/lib/python3.11/dist-packages (from accelerate) (5.9.5)\n",
            "Requirement already satisfied: pyyaml in /usr/local/lib/python3.11/dist-packages (from accelerate) (6.0.2)\n",
            "Requirement already satisfied: torch>=2.0.0 in /usr/local/lib/python3.11/dist-packages (from accelerate) (2.6.0+cu124)\n",
            "Requirement already satisfied: huggingface-hub>=0.21.0 in /usr/local/lib/python3.11/dist-packages (from accelerate) (0.30.2)\n",
            "Requirement already satisfied: safetensors>=0.4.3 in /usr/local/lib/python3.11/dist-packages (from accelerate) (0.5.3)\n",
            "Requirement already satisfied: filelock in /usr/local/lib/python3.11/dist-packages (from huggingface-hub>=0.21.0->accelerate) (3.18.0)\n",
            "Requirement already satisfied: fsspec>=2023.5.0 in /usr/local/lib/python3.11/dist-packages (from huggingface-hub>=0.21.0->accelerate) (2025.3.0)\n",
            "Requirement already satisfied: requests in /usr/local/lib/python3.11/dist-packages (from huggingface-hub>=0.21.0->accelerate) (2.32.3)\n",
            "Requirement already satisfied: tqdm>=4.42.1 in /usr/local/lib/python3.11/dist-packages (from huggingface-hub>=0.21.0->accelerate) (4.67.1)\n",
            "Requirement already satisfied: typing-extensions>=3.7.4.3 in /usr/local/lib/python3.11/dist-packages (from huggingface-hub>=0.21.0->accelerate) (4.13.2)\n",
            "Requirement already satisfied: networkx in /usr/local/lib/python3.11/dist-packages (from torch>=2.0.0->accelerate) (3.4.2)\n",
            "Requirement already satisfied: jinja2 in /usr/local/lib/python3.11/dist-packages (from torch>=2.0.0->accelerate) (3.1.6)\n",
            "Collecting nvidia-cuda-nvrtc-cu12==12.4.127 (from torch>=2.0.0->accelerate)\n",
            "  Downloading nvidia_cuda_nvrtc_cu12-12.4.127-py3-none-manylinux2014_x86_64.whl.metadata (1.5 kB)\n",
            "Collecting nvidia-cuda-runtime-cu12==12.4.127 (from torch>=2.0.0->accelerate)\n",
            "  Downloading nvidia_cuda_runtime_cu12-12.4.127-py3-none-manylinux2014_x86_64.whl.metadata (1.5 kB)\n",
            "Collecting nvidia-cuda-cupti-cu12==12.4.127 (from torch>=2.0.0->accelerate)\n",
            "  Downloading nvidia_cuda_cupti_cu12-12.4.127-py3-none-manylinux2014_x86_64.whl.metadata (1.6 kB)\n",
            "Collecting nvidia-cudnn-cu12==9.1.0.70 (from torch>=2.0.0->accelerate)\n",
            "  Downloading nvidia_cudnn_cu12-9.1.0.70-py3-none-manylinux2014_x86_64.whl.metadata (1.6 kB)\n",
            "Collecting nvidia-cublas-cu12==12.4.5.8 (from torch>=2.0.0->accelerate)\n",
            "  Downloading nvidia_cublas_cu12-12.4.5.8-py3-none-manylinux2014_x86_64.whl.metadata (1.5 kB)\n",
            "Collecting nvidia-cufft-cu12==11.2.1.3 (from torch>=2.0.0->accelerate)\n",
            "  Downloading nvidia_cufft_cu12-11.2.1.3-py3-none-manylinux2014_x86_64.whl.metadata (1.5 kB)\n",
            "Collecting nvidia-curand-cu12==10.3.5.147 (from torch>=2.0.0->accelerate)\n",
            "  Downloading nvidia_curand_cu12-10.3.5.147-py3-none-manylinux2014_x86_64.whl.metadata (1.5 kB)\n",
            "Collecting nvidia-cusolver-cu12==11.6.1.9 (from torch>=2.0.0->accelerate)\n",
            "  Downloading nvidia_cusolver_cu12-11.6.1.9-py3-none-manylinux2014_x86_64.whl.metadata (1.6 kB)\n",
            "Collecting nvidia-cusparse-cu12==12.3.1.170 (from torch>=2.0.0->accelerate)\n",
            "  Downloading nvidia_cusparse_cu12-12.3.1.170-py3-none-manylinux2014_x86_64.whl.metadata (1.6 kB)\n",
            "Requirement already satisfied: nvidia-cusparselt-cu12==0.6.2 in /usr/local/lib/python3.11/dist-packages (from torch>=2.0.0->accelerate) (0.6.2)\n",
            "Requirement already satisfied: nvidia-nccl-cu12==2.21.5 in /usr/local/lib/python3.11/dist-packages (from torch>=2.0.0->accelerate) (2.21.5)\n",
            "Requirement already satisfied: nvidia-nvtx-cu12==12.4.127 in /usr/local/lib/python3.11/dist-packages (from torch>=2.0.0->accelerate) (12.4.127)\n",
            "Collecting nvidia-nvjitlink-cu12==12.4.127 (from torch>=2.0.0->accelerate)\n",
            "  Downloading nvidia_nvjitlink_cu12-12.4.127-py3-none-manylinux2014_x86_64.whl.metadata (1.5 kB)\n",
            "Requirement already satisfied: triton==3.2.0 in /usr/local/lib/python3.11/dist-packages (from torch>=2.0.0->accelerate) (3.2.0)\n",
            "Requirement already satisfied: sympy==1.13.1 in /usr/local/lib/python3.11/dist-packages (from torch>=2.0.0->accelerate) (1.13.1)\n",
            "Requirement already satisfied: mpmath<1.4,>=1.1.0 in /usr/local/lib/python3.11/dist-packages (from sympy==1.13.1->torch>=2.0.0->accelerate) (1.3.0)\n",
            "Requirement already satisfied: MarkupSafe>=2.0 in /usr/local/lib/python3.11/dist-packages (from jinja2->torch>=2.0.0->accelerate) (3.0.2)\n",
            "Requirement already satisfied: charset-normalizer<4,>=2 in /usr/local/lib/python3.11/dist-packages (from requests->huggingface-hub>=0.21.0->accelerate) (3.4.1)\n",
            "Requirement already satisfied: idna<4,>=2.5 in /usr/local/lib/python3.11/dist-packages (from requests->huggingface-hub>=0.21.0->accelerate) (3.10)\n",
            "Requirement already satisfied: urllib3<3,>=1.21.1 in /usr/local/lib/python3.11/dist-packages (from requests->huggingface-hub>=0.21.0->accelerate) (2.4.0)\n",
            "Requirement already satisfied: certifi>=2017.4.17 in /usr/local/lib/python3.11/dist-packages (from requests->huggingface-hub>=0.21.0->accelerate) (2025.4.26)\n",
            "Downloading nvidia_cublas_cu12-12.4.5.8-py3-none-manylinux2014_x86_64.whl (363.4 MB)\n",
            "\u001b[2K   \u001b[90m━━━━━━━━━━━━━━━━━━━━━━━━━━━━━━━━━━━━━━━━\u001b[0m \u001b[32m363.4/363.4 MB\u001b[0m \u001b[31m3.4 MB/s\u001b[0m eta \u001b[36m0:00:00\u001b[0m\n",
            "\u001b[?25hDownloading nvidia_cuda_cupti_cu12-12.4.127-py3-none-manylinux2014_x86_64.whl (13.8 MB)\n",
            "\u001b[2K   \u001b[90m━━━━━━━━━━━━━━━━━━━━━━━━━━━━━━━━━━━━━━━━\u001b[0m \u001b[32m13.8/13.8 MB\u001b[0m \u001b[31m119.9 MB/s\u001b[0m eta \u001b[36m0:00:00\u001b[0m\n",
            "\u001b[?25hDownloading nvidia_cuda_nvrtc_cu12-12.4.127-py3-none-manylinux2014_x86_64.whl (24.6 MB)\n",
            "\u001b[2K   \u001b[90m━━━━━━━━━━━━━━━━━━━━━━━━━━━━━━━━━━━━━━━━\u001b[0m \u001b[32m24.6/24.6 MB\u001b[0m \u001b[31m87.5 MB/s\u001b[0m eta \u001b[36m0:00:00\u001b[0m\n",
            "\u001b[?25hDownloading nvidia_cuda_runtime_cu12-12.4.127-py3-none-manylinux2014_x86_64.whl (883 kB)\n",
            "\u001b[2K   \u001b[90m━━━━━━━━━━━━━━━━━━━━━━━━━━━━━━━━━━━━━━━━\u001b[0m \u001b[32m883.7/883.7 kB\u001b[0m \u001b[31m51.0 MB/s\u001b[0m eta \u001b[36m0:00:00\u001b[0m\n",
            "\u001b[?25hDownloading nvidia_cudnn_cu12-9.1.0.70-py3-none-manylinux2014_x86_64.whl (664.8 MB)\n",
            "\u001b[2K   \u001b[90m━━━━━━━━━━━━━━━━━━━━━━━━━━━━━━━━━━━━━━━━\u001b[0m \u001b[32m664.8/664.8 MB\u001b[0m \u001b[31m1.7 MB/s\u001b[0m eta \u001b[36m0:00:00\u001b[0m\n",
            "\u001b[?25hDownloading nvidia_cufft_cu12-11.2.1.3-py3-none-manylinux2014_x86_64.whl (211.5 MB)\n",
            "\u001b[2K   \u001b[90m━━━━━━━━━━━━━━━━━━━━━━━━━━━━━━━━━━━━━━━━\u001b[0m \u001b[32m211.5/211.5 MB\u001b[0m \u001b[31m11.5 MB/s\u001b[0m eta \u001b[36m0:00:00\u001b[0m\n",
            "\u001b[?25hDownloading nvidia_curand_cu12-10.3.5.147-py3-none-manylinux2014_x86_64.whl (56.3 MB)\n",
            "\u001b[2K   \u001b[90m━━━━━━━━━━━━━━━━━━━━━━━━━━━━━━━━━━━━━━━━\u001b[0m \u001b[32m56.3/56.3 MB\u001b[0m \u001b[31m43.1 MB/s\u001b[0m eta \u001b[36m0:00:00\u001b[0m\n",
            "\u001b[?25hDownloading nvidia_cusolver_cu12-11.6.1.9-py3-none-manylinux2014_x86_64.whl (127.9 MB)\n",
            "\u001b[2K   \u001b[90m━━━━━━━━━━━━━━━━━━━━━━━━━━━━━━━━━━━━━━━━\u001b[0m \u001b[32m127.9/127.9 MB\u001b[0m \u001b[31m19.7 MB/s\u001b[0m eta \u001b[36m0:00:00\u001b[0m\n",
            "\u001b[?25hDownloading nvidia_cusparse_cu12-12.3.1.170-py3-none-manylinux2014_x86_64.whl (207.5 MB)\n",
            "\u001b[2K   \u001b[90m━━━━━━━━━━━━━━━━━━━━━━━━━━━━━━━━━━━━━━━━\u001b[0m \u001b[32m207.5/207.5 MB\u001b[0m \u001b[31m4.8 MB/s\u001b[0m eta \u001b[36m0:00:00\u001b[0m\n",
            "\u001b[?25hDownloading nvidia_nvjitlink_cu12-12.4.127-py3-none-manylinux2014_x86_64.whl (21.1 MB)\n",
            "\u001b[2K   \u001b[90m━━━━━━━━━━━━━━━━━━━━━━━━━━━━━━━━━━━━━━━━\u001b[0m \u001b[32m21.1/21.1 MB\u001b[0m \u001b[31m103.9 MB/s\u001b[0m eta \u001b[36m0:00:00\u001b[0m\n",
            "\u001b[?25hInstalling collected packages: nvidia-nvjitlink-cu12, nvidia-curand-cu12, nvidia-cufft-cu12, nvidia-cuda-runtime-cu12, nvidia-cuda-nvrtc-cu12, nvidia-cuda-cupti-cu12, nvidia-cublas-cu12, nvidia-cusparse-cu12, nvidia-cudnn-cu12, nvidia-cusolver-cu12\n",
            "  Attempting uninstall: nvidia-nvjitlink-cu12\n",
            "    Found existing installation: nvidia-nvjitlink-cu12 12.5.82\n",
            "    Uninstalling nvidia-nvjitlink-cu12-12.5.82:\n",
            "      Successfully uninstalled nvidia-nvjitlink-cu12-12.5.82\n",
            "  Attempting uninstall: nvidia-curand-cu12\n",
            "    Found existing installation: nvidia-curand-cu12 10.3.6.82\n",
            "    Uninstalling nvidia-curand-cu12-10.3.6.82:\n",
            "      Successfully uninstalled nvidia-curand-cu12-10.3.6.82\n",
            "  Attempting uninstall: nvidia-cufft-cu12\n",
            "    Found existing installation: nvidia-cufft-cu12 11.2.3.61\n",
            "    Uninstalling nvidia-cufft-cu12-11.2.3.61:\n",
            "      Successfully uninstalled nvidia-cufft-cu12-11.2.3.61\n",
            "  Attempting uninstall: nvidia-cuda-runtime-cu12\n",
            "    Found existing installation: nvidia-cuda-runtime-cu12 12.5.82\n",
            "    Uninstalling nvidia-cuda-runtime-cu12-12.5.82:\n",
            "      Successfully uninstalled nvidia-cuda-runtime-cu12-12.5.82\n",
            "  Attempting uninstall: nvidia-cuda-nvrtc-cu12\n",
            "    Found existing installation: nvidia-cuda-nvrtc-cu12 12.5.82\n",
            "    Uninstalling nvidia-cuda-nvrtc-cu12-12.5.82:\n",
            "      Successfully uninstalled nvidia-cuda-nvrtc-cu12-12.5.82\n",
            "  Attempting uninstall: nvidia-cuda-cupti-cu12\n",
            "    Found existing installation: nvidia-cuda-cupti-cu12 12.5.82\n",
            "    Uninstalling nvidia-cuda-cupti-cu12-12.5.82:\n",
            "      Successfully uninstalled nvidia-cuda-cupti-cu12-12.5.82\n",
            "  Attempting uninstall: nvidia-cublas-cu12\n",
            "    Found existing installation: nvidia-cublas-cu12 12.5.3.2\n",
            "    Uninstalling nvidia-cublas-cu12-12.5.3.2:\n",
            "      Successfully uninstalled nvidia-cublas-cu12-12.5.3.2\n",
            "  Attempting uninstall: nvidia-cusparse-cu12\n",
            "    Found existing installation: nvidia-cusparse-cu12 12.5.1.3\n",
            "    Uninstalling nvidia-cusparse-cu12-12.5.1.3:\n",
            "      Successfully uninstalled nvidia-cusparse-cu12-12.5.1.3\n",
            "  Attempting uninstall: nvidia-cudnn-cu12\n",
            "    Found existing installation: nvidia-cudnn-cu12 9.3.0.75\n",
            "    Uninstalling nvidia-cudnn-cu12-9.3.0.75:\n",
            "      Successfully uninstalled nvidia-cudnn-cu12-9.3.0.75\n",
            "  Attempting uninstall: nvidia-cusolver-cu12\n",
            "    Found existing installation: nvidia-cusolver-cu12 11.6.3.83\n",
            "    Uninstalling nvidia-cusolver-cu12-11.6.3.83:\n",
            "      Successfully uninstalled nvidia-cusolver-cu12-11.6.3.83\n",
            "Successfully installed nvidia-cublas-cu12-12.4.5.8 nvidia-cuda-cupti-cu12-12.4.127 nvidia-cuda-nvrtc-cu12-12.4.127 nvidia-cuda-runtime-cu12-12.4.127 nvidia-cudnn-cu12-9.1.0.70 nvidia-cufft-cu12-11.2.1.3 nvidia-curand-cu12-10.3.5.147 nvidia-cusolver-cu12-11.6.1.9 nvidia-cusparse-cu12-12.3.1.170 nvidia-nvjitlink-cu12-12.4.127\n"
          ]
        }
      ],
      "source": [
        "!pip install datasets\n",
        "!pip install optuna\n",
        "!pip install accelerate"
      ]
    },
    {
      "cell_type": "code",
      "execution_count": 41,
      "id": "bd85f854",
      "metadata": {
        "id": "bd85f854"
      },
      "outputs": [],
      "source": [
        "import pandas as pd\n",
        "import numpy as np\n",
        "from sklearn.model_selection import train_test_split\n",
        "from sklearn.preprocessing import LabelEncoder\n",
        "from sklearn.utils.class_weight import compute_class_weight\n",
        "from sklearn.metrics import accuracy_score, f1_score\n",
        "from datasets import Dataset\n",
        "from transformers import (\n",
        "    AutoTokenizer,\n",
        "    AutoModelForSequenceClassification,\n",
        "    DataCollatorWithPadding,\n",
        "    Trainer,\n",
        "    TrainingArguments,\n",
        "    EarlyStoppingCallback,\n",
        "    XLMRobertaModel\n",
        ")\n",
        "import random\n",
        "from google.colab import drive\n",
        "import matplotlib.pyplot as plt\n",
        "import torch\n",
        "\n",
        "import os"
      ]
    },
    {
      "cell_type": "code",
      "execution_count": null,
      "id": "Wfkf8wiDnspE",
      "metadata": {
        "colab": {
          "base_uri": "https://localhost:8080/"
        },
        "id": "Wfkf8wiDnspE",
        "outputId": "184ee438-43e0-428f-8bd7-b39f4040da7a"
      },
      "outputs": [
        {
          "name": "stdout",
          "output_type": "stream",
          "text": [
            "Drive already mounted at /content/drive; to attempt to forcibly remount, call drive.mount(\"/content/drive\", force_remount=True).\n"
          ]
        }
      ],
      "source": [
        "# mount drive and load excel\n",
        "drive.mount('/content/drive')\n",
        "filename = \"PISA_ISCO_data.xlsx\"\n",
        "search_path = \"/content/drive/MyDrive/Colab Notebooks\"\n",
        "file_path = next((os.path.join(root, filename)\n",
        "                  for root, _, files in os.walk(search_path)\n",
        "                  if filename in files), None)\n",
        "assert file_path, f\"{filename} not found.\"\n"
      ]
    },
    {
      "cell_type": "code",
      "execution_count": 43,
      "id": "NaQursBSohxh",
      "metadata": {
        "id": "NaQursBSohxh"
      },
      "outputs": [],
      "source": [
        "filename = \"PISA_ISCO_data.xlsx\"\n",
        "search_path = \"/content/drive/MyDrive/Colab Notebooks\"\n",
        "\n",
        "file_path = None\n",
        "for root, dirs, files in os.walk(search_path):\n",
        "    if filename in files:\n",
        "        file_path = os.path.join(root, filename)\n",
        "        break\n",
        "\n",
        "if file_path is None:\n",
        "    print(f\"File '{filename}' not found in the specified directory structure.\")"
      ]
    },
    {
      "cell_type": "code",
      "execution_count": 44,
      "id": "0eef0e49",
      "metadata": {
        "id": "0eef0e49"
      },
      "outputs": [],
      "source": [
        "db_kk = pd.read_excel(file_path, sheet_name=0).drop(columns=['Context', 'Language', 'Source Variable', 'Output Variable', 'Dataset Output', 'Coder ID'])\n",
        "db_ru = pd.read_excel(file_path, sheet_name=1).drop(columns=['Context', 'Language', 'Source Variable', 'Output Variable', 'Dataset Output', 'Coder ID'])\n",
        "isco08 = pd.read_excel(file_path, sheet_name=4)"
      ]
    },
    {
      "cell_type": "code",
      "execution_count": 45,
      "id": "jNeocpDLG1II",
      "metadata": {
        "colab": {
          "base_uri": "https://localhost:8080/"
        },
        "id": "jNeocpDLG1II",
        "outputId": "653ac2d2-b0bd-438c-825e-dee2787d5044"
      },
      "outputs": [
        {
          "name": "stdout",
          "output_type": "stream",
          "text": [
            "                                               Title  \\\n",
            "0                                                  -   \n",
            "1  озим компьютермен жумыстанган унагандыктан, ай...   \n",
            "2                                      колик айдаушы   \n",
            "3                                                  -   \n",
            "4                                           кәсіпкер   \n",
            "\n",
            "                                         Description  ISCO Code  \n",
            "0                                                  -       9997  \n",
            "1  озим компьютермен жумыстанган унагандыктан, ай...         25  \n",
            "2                                        адам тасиды       8322  \n",
            "3                                                  -       9997  \n",
            "4                                 мейрамхана бастығы         14  \n"
          ]
        }
      ],
      "source": [
        "print(db_kk.head(5))"
      ]
    },
    {
      "cell_type": "code",
      "execution_count": 46,
      "id": "5bd97728",
      "metadata": {
        "colab": {
          "base_uri": "https://localhost:8080/"
        },
        "id": "5bd97728",
        "outputId": "a5274c02-b651-40a2-ba3c-22e26c9bb224"
      },
      "outputs": [
        {
          "name": "stdout",
          "output_type": "stream",
          "text": [
            "                        Title  \\\n",
            "0  Юрист в компании \"Ферреро\"   \n",
            "1           Дизайнером одежды   \n",
            "2          мастер по маникюру   \n",
            "3          риелтор(посредник)   \n",
            "4                  стоматолог   \n",
            "\n",
            "                                         Description  ISCO Code  \n",
            "0                     Проверяет поделочные сладости        2611  \n",
            "1                                  Дизайнером одежды       2163  \n",
            "2                                       делает ногти       5142  \n",
            "3  находит квартиры клиентам, договаривается с хо...       3334  \n",
            "4                                         стоматолог       2261  \n"
          ]
        }
      ],
      "source": [
        "print(db_ru.head(5))"
      ]
    },
    {
      "cell_type": "code",
      "execution_count": 47,
      "id": "34e87db6",
      "metadata": {
        "colab": {
          "base_uri": "https://localhost:8080/"
        },
        "id": "34e87db6",
        "outputId": "5d5218ff-aa71-4c2a-8879-735f6ec9145b"
      },
      "outputs": [
        {
          "name": "stdout",
          "output_type": "stream",
          "text": [
            "   Code                                   Value\n",
            "0     0                Armed forces occupations\n",
            "1     1      Commissioned armed forces officers\n",
            "2    11      Commissioned armed forces officers\n",
            "3   110      Commissioned armed forces officers\n",
            "4     2  Non-commissioned armed forces officers\n"
          ]
        }
      ],
      "source": [
        "print(isco08.head(5))"
      ]
    },
    {
      "cell_type": "code",
      "execution_count": 48,
      "id": "4ba43d5a",
      "metadata": {
        "colab": {
          "base_uri": "https://localhost:8080/"
        },
        "id": "4ba43d5a",
        "outputId": "5b05a1ad-ab85-42da-abd9-6f55b2814d7e"
      },
      "outputs": [
        {
          "name": "stdout",
          "output_type": "stream",
          "text": [
            "     Code                                              Value\n",
            "617  9624                      Water and firewood collectors\n",
            "618  9629        Elementary workers not elsewhere classified\n",
            "619  9701              Doing housework, bringing up children\n",
            "620  9702                                 Learning, studying\n",
            "621  9703       Retired, pensioner, on unemployment benefits\n",
            "622  9704                    I do not know, it's hard to say\n",
            "623  9705  Answer too general (e.g. good job, well paid j...\n",
            "624  9997                                     Not applicable\n",
            "625  9998                                            Invalid\n",
            "626  9999                                        No response\n"
          ]
        }
      ],
      "source": [
        "print(isco08.tail(10))"
      ]
    },
    {
      "cell_type": "code",
      "execution_count": 49,
      "id": "Z5oG-2ekp7m_",
      "metadata": {
        "id": "Z5oG-2ekp7m_"
      },
      "outputs": [],
      "source": [
        "db = pd.concat([db_kk, db_ru], ignore_index=True)\n",
        "db['Title'] = db['Title'].fillna('')\n",
        "db['Description'] = db['Description'].fillna('')\n",
        "db['text'] = db['Title'] + ' ' + db['Description']"
      ]
    },
    {
      "cell_type": "code",
      "execution_count": null,
      "id": "IHNcqEGnNsVd",
      "metadata": {
        "id": "IHNcqEGnNsVd"
      },
      "outputs": [],
      "source": [
        "## encode labels (ISCO-08 codes)\n",
        "label_encoder = LabelEncoder()\n",
        "db['label'] = label_encoder.fit_transform(db['ISCO Code'])\n",
        "label2code = dict(enumerate(label_encoder.classes_))\n",
        "code2label = {v: k for k, v in label2code.items()}"
      ]
    },
    {
      "cell_type": "code",
      "execution_count": null,
      "id": "9q4rit7aMbV3",
      "metadata": {
        "colab": {
          "base_uri": "https://localhost:8080/",
          "height": 948
        },
        "id": "9q4rit7aMbV3",
        "outputId": "eb0f8f37-90f9-4c48-ab55-f41bb531adcd"
      },
      "outputs": [
        {
          "name": "stdout",
          "output_type": "stream",
          "text": [
            "label\n",
            "12     3334\n",
            "15     2252\n",
            "526    1905\n",
            "528    1856\n",
            "193    1686\n",
            "       ... \n",
            "280       1\n",
            "105       1\n",
            "431       1\n",
            "471       1\n",
            "501       1\n",
            "Name: count, Length: 531, dtype: int64\n",
            "label\n",
            "12     0.060586\n",
            "15     0.040924\n",
            "526    0.034618\n",
            "528    0.033728\n",
            "193    0.030638\n",
            "         ...   \n",
            "280    0.000018\n",
            "105    0.000018\n",
            "431    0.000018\n",
            "471    0.000018\n",
            "501    0.000018\n",
            "Name: count, Length: 531, dtype: float64\n"
          ]
        },
        {
          "data": {
            "image/png": "[encoded data removed]",
            "text/plain": [
              "<Figure size 640x480 with 1 Axes>"
            ]
          },
          "metadata": {},
          "output_type": "display_data"
        }
      ],
      "source": [
        "label_counts = db['label'].value_counts()\n",
        "\n",
        "print(label_counts)  # print counts per class\n",
        "print(label_counts / label_counts.sum())  # print proportions\n",
        "\n",
        "## plot distr\n",
        "label_counts.plot(kind='bar', title='Class Distribution')\n",
        "plt.xlabel(\"Class\")\n",
        "plt.ylabel(\"Count\")\n",
        "plt.show()\n",
        "## as you can see, the data is highly imbalanced, so we will use class weights to balance it"
      ]
    },
    {
      "cell_type": "code",
      "execution_count": null,
      "id": "t0WC_z-qHG68",
      "metadata": {
        "id": "t0WC_z-qHG68"
      },
      "outputs": [],
      "source": [
        "## drop rare classes (here 5 sample only)\n",
        "valid_labels = label_counts[label_counts > 5].index\n",
        "db = db[db['label'].isin(valid_labels)]"
      ]
    },
    {
      "cell_type": "code",
      "execution_count": null,
      "id": "8Xrtx7wqHOOe",
      "metadata": {
        "id": "8Xrtx7wqHOOe"
      },
      "outputs": [],
      "source": [
        "## train-validation split\n",
        "\n",
        "train_texts, temp_texts, train_labels, temp_labels = train_test_split(\n",
        "    db['text'].tolist(),\n",
        "    db['label'].tolist(),\n",
        "    test_size=0.3,\n",
        "    stratify=db['label'],\n",
        "    random_state=42\n",
        ")\n",
        "\n",
        "val_texts, test_texts, val_labels, test_labels = train_test_split(\n",
        "    temp_texts,\n",
        "    temp_labels,\n",
        "    test_size=0.5,\n",
        "    stratify=temp_labels,\n",
        "    random_state=42\n",
        ")"
      ]
    },
    {
      "cell_type": "code",
      "execution_count": null,
      "id": "9wAqVidlFaRF",
      "metadata": {
        "id": "9wAqVidlFaRF"
      },
      "outputs": [],
      "source": [
        "## tokenization\n",
        "tokenizer = AutoTokenizer.from_pretrained(\"xlm-roberta-large\")\n",
        "MAX_LEN = 128\n",
        "\n",
        "def tokenize(texts, labels):\n",
        "    encodings = tokenizer(texts, truncation=True, padding=True, max_length=MAX_LEN)\n",
        "    return Dataset.from_dict({**encodings, \"label\": labels})\n",
        "\n",
        "train_dataset = tokenize(train_texts, train_labels)\n",
        "val_dataset = tokenize(val_texts, val_labels)\n",
        "test_dataset = tokenize(test_texts, test_labels)"
      ]
    },
    {
      "cell_type": "code",
      "execution_count": null,
      "id": "ZGC-5pq8J0cx",
      "metadata": {
        "id": "ZGC-5pq8J0cx"
      },
      "outputs": [],
      "source": [
        "## class weights \n",
        "\n",
        "NUM_CLASSES = len(label_encoder.classes_)\n",
        "\n",
        "weights = [0.0] * NUM_CLASSES\n",
        "total_samples = label_counts.sum()\n",
        "\n",
        "## all weights to zero\n",
        "weights = [0.0] * NUM_CLASSES\n",
        "\n",
        "## compute inverse class frequency\n",
        "for label, count in label_counts.items():\n",
        "    weights[label] = total_samples / (count * NUM_CLASSES)\n",
        "\n",
        "## converting to PyTorch tensor\n",
        "class_weights = torch.tensor(weights, dtype=torch.float)\n"
      ]
    },
    {
      "cell_type": "code",
      "execution_count": null,
      "id": "KZeO_UxYJ5f9",
      "metadata": {
        "colab": {
          "base_uri": "https://localhost:8080/",
          "height": 324
        },
        "id": "KZeO_UxYJ5f9",
        "outputId": "0c789ec4-9c8b-4707-dfbf-ee76a977b604"
      },
      "outputs": [
        {
          "name": "stderr",
          "output_type": "stream",
          "text": [
            "<ipython-input-60-2f962062dc8d>:57: FutureWarning: `tokenizer` is deprecated and will be removed in version 5.0.0 for `Trainer.__init__`. Use `processing_class` instead.\n",
            "  trainer = Trainer(\n"
          ]
        },
        {
          "data": {
            "text/html": [
              "\n",
              "    <div>\n",
              "      \n",
              "      <progress value='7170' max='7170' style='width:300px; height:20px; vertical-align: middle;'></progress>\n",
              "      [7170/7170 1:33:01, Epoch 5/6]\n",
              "    </div>\n",
              "    <table border=\"1\" class=\"dataframe\">\n",
              "  <thead>\n",
              " <tr style=\"text-align: left;\">\n",
              "      <th>Epoch</th>\n",
              "      <th>Training Loss</th>\n",
              "      <th>Validation Loss</th>\n",
              "      <th>Accuracy</th>\n",
              "      <th>Macro F1</th>\n",
              "    </tr>\n",
              "  </thead>\n",
              "  <tbody>\n",
              "    <tr>\n",
              "      <td>1</td>\n",
              "      <td>3.931400</td>\n",
              "      <td>3.823092</td>\n",
              "      <td>0.516656</td>\n",
              "      <td>0.099577</td>\n",
              "    </tr>\n",
              "    <tr>\n",
              "      <td>2</td>\n",
              "      <td>2.411800</td>\n",
              "      <td>2.127552</td>\n",
              "      <td>0.672361</td>\n",
              "      <td>0.274672</td>\n",
              "    </tr>\n",
              "    <tr>\n",
              "      <td>3</td>\n",
              "      <td>1.616700</td>\n",
              "      <td>1.811275</td>\n",
              "      <td>0.701037</td>\n",
              "      <td>0.349449</td>\n",
              "    </tr>\n",
              "    <tr>\n",
              "      <td>4</td>\n",
              "      <td>1.675700</td>\n",
              "      <td>1.672361</td>\n",
              "      <td>0.712386</td>\n",
              "      <td>0.379527</td>\n",
              "    </tr>\n",
              "    <tr>\n",
              "      <td>5</td>\n",
              "      <td>1.229400</td>\n",
              "      <td>1.589899</td>\n",
              "      <td>0.721293</td>\n",
              "      <td>0.404885</td>\n",
              "    </tr>\n",
              "  </tbody>\n",
              "</table><p>"
            ],
            "text/plain": [
              "<IPython.core.display.HTML object>"
            ]
          },
          "metadata": {},
          "output_type": "display_data"
        },
        {
          "data": {
            "text/plain": [
              "TrainOutput(global_step=7170, training_loss=2.480322806040446, metrics={'train_runtime': 5581.8621, 'train_samples_per_second': 41.108, 'train_steps_per_second': 1.285, 'total_flos': 0.0, 'train_loss': 2.480322806040446, 'epoch': 5.995711745633302})"
            ]
          },
          "execution_count": 60,
          "metadata": {},
          "output_type": "execute_result"
        }
      ],
      "source": [
        "import torch.nn as nn\n",
        "\n",
        "## model using the full weight vector\n",
        "class CustomRobertaClassifier(nn.Module):\n",
        "    def __init__(self, num_labels, class_weights):\n",
        "        super().__init__()\n",
        "        self.roberta = XLMRobertaModel.from_pretrained(\"xlm-roberta-large\")\n",
        "        self.classifier = nn.Linear(self.roberta.config.hidden_size, num_labels)\n",
        "        self.loss_fn = nn.CrossEntropyLoss(weight=class_weights)\n",
        "\n",
        "    def forward(self, input_ids=None, attention_mask=None, labels=None):\n",
        "        outputs = self.roberta(input_ids=input_ids, attention_mask=attention_mask)\n",
        "        logits = self.classifier(outputs.last_hidden_state[:, 0, :])\n",
        "        loss = None\n",
        "        if labels is not None:\n",
        "            loss = self.loss_fn(logits, labels)\n",
        "        return {\"loss\": loss, \"logits\": logits}\n",
        "\n",
        "model = CustomRobertaClassifier(NUM_CLASSES, class_weights)\n",
        "data_collator = DataCollatorWithPadding(tokenizer=tokenizer)\n",
        "\n",
        "## metrics\n",
        "def compute_metrics(pred):\n",
        "    labels = pred.label_ids\n",
        "    preds = pred.predictions.argmax(-1)\n",
        "    return {\n",
        "        \"accuracy\": accuracy_score(labels, preds),\n",
        "        \"macro_f1\": f1_score(labels, preds, average=\"macro\")\n",
        "    }\n",
        "\n",
        "## training arguments\n",
        "training_args = TrainingArguments(\n",
        "    output_dir=\"./results\",\n",
        "    eval_strategy=\"epoch\",\n",
        "    save_strategy=\"epoch\",\n",
        "    num_train_epochs=6, ## 6 epochs is enough i guess\n",
        "    per_device_train_batch_size=4,\n",
        "    per_device_eval_batch_size=4,\n",
        "    gradient_accumulation_steps=8,\n",
        "    learning_rate=1e-5,\n",
        "    warmup_ratio=0.2,\n",
        "    logging_dir=\"./logs\",\n",
        "    logging_steps=10,\n",
        "    load_best_model_at_end=True,\n",
        "    metric_for_best_model=\"macro_f1\",\n",
        "    greater_is_better=True,\n",
        "    save_total_limit=2,\n",
        "    seed=42,\n",
        "    fp16=True\n",
        ")\n",
        "\n",
        "## trainer\n",
        "trainer = Trainer(\n",
        "    model=model,\n",
        "    args=training_args,\n",
        "    train_dataset=train_dataset,\n",
        "    eval_dataset=val_dataset,\n",
        "    tokenizer=tokenizer,\n",
        "    data_collator=data_collator,\n",
        "    compute_metrics=compute_metrics,\n",
        "    callbacks=[EarlyStoppingCallback(early_stopping_patience=2)] ## early stopping\n",
        ")\n",
        "\n",
        "## train model\n",
        "trainer.train()"
      ]
    },
    {
      "cell_type": "code",
      "execution_count": null,
      "id": "ezVge-aHQwjy",
      "metadata": {
        "colab": {
          "base_uri": "https://localhost:8080/",
          "height": 180
        },
        "id": "ezVge-aHQwjy",
        "outputId": "377e03a9-ecbe-4ddb-ee09-d843f7ecaf9b"
      },
      "outputs": [
        {
          "data": {
            "text/html": [
              "\n",
              "    <div>\n",
              "      \n",
              "      <progress value='2331' max='2049' style='width:300px; height:20px; vertical-align: middle;'></progress>\n",
              "      [2049/2049 01:19]\n",
              "    </div>\n",
              "    "
            ],
            "text/plain": [
              "<IPython.core.display.HTML object>"
            ]
          },
          "metadata": {},
          "output_type": "display_data"
        },
        {
          "name": "stdout",
          "output_type": "stream",
          "text": [
            "Test Evaluation Results:\n",
            "eval_loss: 1.6140\n",
            "eval_accuracy: 0.7202\n",
            "eval_macro_f1: 0.3917\n",
            "eval_runtime: 62.0227\n",
            "eval_samples_per_second: 132.1290\n",
            "eval_steps_per_second: 33.0360\n",
            "epoch: 5.9957\n"
          ]
        }
      ],
      "source": [
        "## encode test data\n",
        "test_encodings = tokenizer(test_texts, truncation=True, padding=True)\n",
        "test_dataset = Dataset.from_dict({\n",
        "    'input_ids': test_encodings['input_ids'],\n",
        "    'attention_mask': test_encodings['attention_mask'],\n",
        "    'labels': test_labels\n",
        "})\n",
        "\n",
        "test_results = trainer.evaluate(test_dataset)\n",
        "\n",
        "print(\"Test Evaluation Results:\")\n",
        "for key, value in test_results.items():\n",
        "    print(f\"{key}: {value:.4f}\")\n"
      ]
    },
    {
      "cell_type": "code",
      "execution_count": null,
      "id": "BzBg8hhHjbRh",
      "metadata": {
        "colab": {
          "base_uri": "https://localhost:8080/"
        },
        "id": "BzBg8hhHjbRh",
        "outputId": "96a3fb03-8640-4331-a53b-72464a57a488"
      },
      "outputs": [
        {
          "name": "stdout",
          "output_type": "stream",
          "text": [
            "Model and tokenizer saved to /content/drive/MyDrive/Colab Notebooks/isco_coding_xlm_roberta_large_model\n"
          ]
        }
      ],
      "source": [
        "## save model and tokenizer\n",
        "save_directory = \"/content/drive/MyDrive/Colab Notebooks/isco_coding_xlm_roberta_large_model\"\n",
        "\n",
        "trainer.save_model(save_directory)\n",
        "tokenizer.save_pretrained(save_directory)\n",
        "\n",
        "print(f\"Model and tokenizer saved to {save_directory}\")"
      ]
    },
    {
      "cell_type": "code",
      "execution_count": 74,
      "id": "ERn_6m6hjfry",
      "metadata": {
        "colab": {
          "base_uri": "https://localhost:8080/"
        },
        "id": "ERn_6m6hjfry",
        "outputId": "79ed9c14-7452-42f4-e1d5-054a97d4d6f9"
      },
      "outputs": [
        {
          "data": {
            "text/plain": [
              "['/content/drive/MyDrive/Colab Notebooks/isco_coding_xlm_roberta_large_model/label_encoder.pkl']"
            ]
          },
          "execution_count": 74,
          "metadata": {},
          "output_type": "execute_result"
        }
      ],
      "source": [
        "import joblib\n",
        "joblib.dump(label_encoder, f\"{save_directory}/label_encoder.pkl\")"
      ]
    }
  ],
  "metadata": {
    "accelerator": "GPU",
    "colab": {
      "gpuType": "T4",
      "machine_shape": "hm",
      "provenance": []
    },
    "kernelspec": {
      "display_name": "Python 3",
      "name": "python3"
    },
    "language_info": {
      "codemirror_mode": {
        "name": "ipython",
        "version": 3
      },
      "file_extension": ".py",
      "mimetype": "text/x-python",
      "name": "python",
      "nbconvert_exporter": "python",
      "pygments_lexer": "ipython3",
      "version": "3.10.16"
    }
  },
  "nbformat": 4,
  "nbformat_minor": 5
}
